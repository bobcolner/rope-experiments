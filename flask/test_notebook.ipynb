{
 "cells": [
  {
   "cell_type": "code",
   "execution_count": null,
   "metadata": {
    "collapsed": false
   },
   "outputs": [],
   "source": [
    "import os\n",
    "import sqlalchemy\n",
    "import main\n",
    "\n",
    "db_conn_str = os.getenv('BB_CONN') # bayesbot PG-RDS connection string\n",
    "db_conn = sqlalchemy.create_engine(db_conn_str, isolation_level=\"AUTOCOMMIT\").connect()"
   ]
  },
  {
   "cell_type": "code",
   "execution_count": null,
   "metadata": {
    "collapsed": false,
    "scrolled": true
   },
   "outputs": [],
   "source": [
    "# 'recent experiments' homepage\n",
    "index = main.index(db_conn)\n",
    "\n",
    "# client experiments\n",
    "graphs, names = main.client_exps(db_conn, site_id='dcf561fa8dad7ae0bf96f52ee0826c2b', \n",
    "                                 output_type='notebook')"
   ]
  },
  {
   "cell_type": "code",
   "execution_count": null,
   "metadata": {
    "collapsed": false,
    "scrolled": true
   },
   "outputs": [],
   "source": [
    "# experiment time-series\n",
    "graph, exp_results = main.exp_timeseries(db_conn, site_id='dcf561fa8dad7ae0bf96f52ee0826c2b', \n",
    "                                         namespace='popularexp', experiment='popular_test', \n",
    "                                         precision=0.01, rope_width=0.02, alpha=0.95, \n",
    "                                         output_type='notebook'\n",
    "                                        )\n",
    "exp_results"
   ]
  }
 ],
 "metadata": {
  "kernelspec": {
   "display_name": "Python 3",
   "language": "python",
   "name": "python3"
  },
  "language_info": {
   "codemirror_mode": {
    "name": "ipython",
    "version": 3
   },
   "file_extension": ".py",
   "mimetype": "text/x-python",
   "name": "python",
   "nbconvert_exporter": "python",
   "pygments_lexer": "ipython3",
   "version": "3.5.2"
  }
 },
 "nbformat": 4,
 "nbformat_minor": 1
}
